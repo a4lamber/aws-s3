{
 "cells": [
  {
   "cell_type": "code",
   "execution_count": 1,
   "metadata": {},
   "outputs": [],
   "source": [
    "import pandas as pd\n",
    "import os\n",
    "\n",
    "\n",
    "from pyspark.sql import SparkSession\n",
    "from pyspark import SparkContext\n",
    "from pyspark import SparkConf\n",
    "\n",
    "\n",
    "from pyspark.sql.functions import col\n",
    "from pyspark.sql.types import StructType, StructField, IntegerType, StringType, TimestampType, DoubleType\n",
    "\n",
    "from IPython.display import display, HTML\n",
    "\n",
    "from util import spark_helpers\n"
   ]
  },
  {
   "cell_type": "code",
   "execution_count": 6,
   "metadata": {},
   "outputs": [
    {
     "name": "stdout",
     "output_type": "stream",
     "text": [
      "./silver_data/DIAGNOSES_ICD.parquet: start\n",
      "./silver_data/DIAGNOSES_ICD.parquet: end\n",
      "./silver_data/CHARTEVENTS.parquet: start\n"
     ]
    },
    {
     "name": "stderr",
     "output_type": "stream",
     "text": [
      "                                                                                \r"
     ]
    },
    {
     "name": "stdout",
     "output_type": "stream",
     "text": [
      "./silver_data/CHARTEVENTS.parquet: end\n",
      "./silver_data/D_LABITEMS.parquet: start\n",
      "./silver_data/D_LABITEMS.parquet: end\n",
      "./silver_data/PROCEDUREEVENTS_MV.parquet: start\n",
      "./silver_data/ADMISSIONS.parquet: start\n",
      "./silver_data/ADMISSIONS.parquet: end\n",
      "./silver_data/TRANSFERS.parquet: start\n",
      "./silver_data/TRANSFERS.parquet: end\n",
      "./silver_data/DATETIMEEVENTS.parquet: start\n",
      "./silver_data/DATETIMEEVENTS.parquet: end\n",
      "./silver_data/PATIENTS.parquet: start\n",
      "./silver_data/PATIENTS.parquet: end\n",
      "./silver_data/PROCEDURES_ICD.parquet: start\n",
      "./silver_data/PROCEDURES_ICD.parquet: end\n",
      "./silver_data/SERVICES.parquet: start\n",
      "./silver_data/SERVICES.parquet: end\n",
      "./silver_data/INPUTEVENTS_CV.parquet: start\n"
     ]
    },
    {
     "name": "stderr",
     "output_type": "stream",
     "text": [
      "                                                                                \r"
     ]
    },
    {
     "name": "stdout",
     "output_type": "stream",
     "text": [
      "./silver_data/INPUTEVENTS_CV.parquet: end\n",
      "./silver_data/MICROBIOLOGYEVENTS.parquet: start\n",
      "./silver_data/MICROBIOLOGYEVENTS.parquet: end\n",
      "./silver_data/D_ITEMS.parquet: start\n",
      "./silver_data/D_ITEMS.parquet: end\n",
      "./silver_data/LABEVENTS.parquet: start\n"
     ]
    },
    {
     "name": "stderr",
     "output_type": "stream",
     "text": [
      "                                                                                \r"
     ]
    },
    {
     "name": "stdout",
     "output_type": "stream",
     "text": [
      "./silver_data/LABEVENTS.parquet: end\n",
      "./silver_data/DRGCODES.parquet: start\n",
      "./silver_data/DRGCODES.parquet: end\n",
      "./silver_data/INPUTEVENTS_MV.parquet: start\n"
     ]
    },
    {
     "name": "stderr",
     "output_type": "stream",
     "text": [
      "                                                                                \r"
     ]
    },
    {
     "name": "stdout",
     "output_type": "stream",
     "text": [
      "./silver_data/INPUTEVENTS_MV.parquet: end\n",
      "./silver_data/ICUSTAYS.parquet: start\n",
      "./silver_data/ICUSTAYS.parquet: end\n",
      "./silver_data/PRESCRIPTIONS.parquet: start\n",
      "./silver_data/D_ICD_PROCEDURES.parquet: start\n"
     ]
    },
    {
     "name": "stderr",
     "output_type": "stream",
     "text": [
      "                                                                                \r"
     ]
    },
    {
     "name": "stdout",
     "output_type": "stream",
     "text": [
      "./silver_data/D_ICD_PROCEDURES.parquet: end\n",
      "./silver_data/OUTPUTEVENTS.parquet: start\n",
      "./silver_data/OUTPUTEVENTS.parquet: end\n",
      "./silver_data/D_ICD_DIAGNOSES.parquet: start\n"
     ]
    },
    {
     "name": "stderr",
     "output_type": "stream",
     "text": [
      "[Stage 199:>                                                        (0 + 1) / 2]\r"
     ]
    },
    {
     "name": "stdout",
     "output_type": "stream",
     "text": [
      "./silver_data/D_ICD_DIAGNOSES.parquet: end\n"
     ]
    },
    {
     "name": "stderr",
     "output_type": "stream",
     "text": [
      "                                                                                \r"
     ]
    }
   ],
   "source": [
    "def main():\n",
    "    # start-up spark\n",
    "    \n",
    "    conf = SparkConf()  # create the configuration\n",
    "    conf.setMaster(\"local\")\n",
    "    # conf.set(\"spark.jars\", \"/Users/yixiangzhang/Desktop/postgresql-42.4.1.jar\")\n",
    "    # conf.set(\"spark.sql.execution.arrow.pyspark.enabled\", \"true\")\n",
    "    spark = SparkSession.builder\\\n",
    "                        .config(conf = conf)\\\n",
    "                        .appName('test').getOrCreate()\n",
    "    sc = SparkContext.getOrCreate()\n",
    "\n",
    "    directory = \"./silver_data/\"\n",
    "    filepathes = []\n",
    "    for filename in os.listdir(directory):\n",
    "        if filename[-4:] == \".csv\": continue\n",
    "\n",
    "        filepathes.append(os.path.join(directory,filename))\n",
    "\n",
    "    mappers_pandas_types_to_spark_types = {\n",
    "        \"int\": IntegerType(),\n",
    "        \"string\": StringType(),\n",
    "        \"datetime\": TimestampType(),\n",
    "        \"float\": DoubleType()\n",
    "    }\n",
    "    \n",
    "    for i,filepath in enumerate(filepathes):\n",
    "        \n",
    "        print(f\"{filepath}: start\")\n",
    "        if i == 3: continue\n",
    "        if filepath == \"./silver_data/PRESCRIPTIONS.parquet\": continue\n",
    "        \n",
    "        df = pd.read_parquet(filepath)\n",
    "        \n",
    "        mimic3_path = df[\"mimic3_filepath\"].iloc[0]\n",
    "        mimic3_selected = df[\"column_mimic3\"].to_list()\n",
    "        mimic4_path = df[\"mimic4_filepath\"].iloc[0]\n",
    "        mimic4_selected = df[\"column_mimic4_candidate_1\"].to_list()\n",
    "        dtypes = df[\"dtype_mimic3\"].to_list()\n",
    "\n",
    "        df_m3 = spark.read.csv(mimic3_path, \n",
    "                       header=True,\n",
    "                       inferSchema=False)\n",
    "\n",
    "        df_m3 = spark_helpers.rename_columns(data = df_m3,\n",
    "                                from_cols=mimic3_selected,\n",
    "                                to_cols=mimic4_selected)\n",
    "\n",
    "        df_m3_selected = df_m3.select(mimic4_selected)\n",
    "\n",
    "        transfers_schema = spark_helpers.create_schema(pandas_types =df[\"dtype_mimic3\"].to_list(),\n",
    "                                                        mappers = mappers_pandas_types_to_spark_types,\n",
    "                                                        column_names=mimic4_selected)\n",
    "        \n",
    "        df_m3_casted = spark_helpers.cast_schema(df = df_m3_selected,\n",
    "                                schema = transfers_schema\n",
    "                                )\n",
    "        \n",
    "        df_m4 = spark.read.csv(mimic4_path, \n",
    "                       header=True,\n",
    "                       inferSchema=False)\n",
    "\n",
    "        df_m4_selected = df_m4.select(mimic4_selected)\n",
    "        df_m4_casted = spark_helpers.cast_schema(df = df_m4_selected,\n",
    "                                schema = transfers_schema\n",
    "                                )\n",
    "\n",
    "        df_transfer_merged = df_m4_casted.coalesce(1).union(df_m3_casted.coalesce(1))\n",
    "\n",
    "        spark_helpers.write_to_db(data_frame=df_transfer_merged,\n",
    "                        table_name=os.path.splitext(os.path.basename(filepath))[0],\n",
    "                        db_name=\"mimic\",\n",
    "                        db_usrname=\"mimic\",\n",
    "                        db_pssword=\"mimic\",\n",
    "                        port=6432)\n",
    "        print(f\"{filepath}: end\")\n",
    "if __name__ == \"__main__\":\n",
    "    main()\n"
   ]
  },
  {
   "cell_type": "code",
   "execution_count": null,
   "metadata": {},
   "outputs": [],
   "source": []
  }
 ],
 "metadata": {
  "kernelspec": {
   "display_name": ".venv",
   "language": "python",
   "name": "python3"
  },
  "language_info": {
   "codemirror_mode": {
    "name": "ipython",
    "version": 3
   },
   "file_extension": ".py",
   "mimetype": "text/x-python",
   "name": "python",
   "nbconvert_exporter": "python",
   "pygments_lexer": "ipython3",
   "version": "3.11.3"
  },
  "orig_nbformat": 4
 },
 "nbformat": 4,
 "nbformat_minor": 2
}
