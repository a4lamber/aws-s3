{
 "cells": [
  {
   "attachments": {},
   "cell_type": "markdown",
   "metadata": {},
   "source": [
    "# Fuzzy comparison\n",
    "The goal of this tool is to collectively solve how to merge multiple data source together. In mimic 3 and mimic 4, it shares similar filenames `patients.csv` and `patients.csv.gz`. Also inside each file, it might have columns `icd_code` in mimic3 and `icd9_code` in mimic4. \n",
    "The current solution i am trying out is to use fuzzy comparison to get the best score."
   ]
  },
  {
   "cell_type": "code",
   "execution_count": 34,
   "metadata": {},
   "outputs": [],
   "source": [
    "import pandas as pd\n",
    "import json\n",
    "from fuzzywuzzy import fuzz,process"
   ]
  },
  {
   "cell_type": "code",
   "execution_count": 35,
   "metadata": {},
   "outputs": [
    {
     "name": "stdout",
     "output_type": "stream",
     "text": [
      "{'PROCEDUREEVENTS_MV': {'Unnamed: 0': 'int', 'row_id': 'int', 'subject_id': 'int', 'hadm_id': 'int', 'icustay_id': 'int', 'starttime': 'datetime', 'endtime': 'datetime', 'itemid': 'datetime', 'value': 'int', 'valueuom': 'string', 'location': 'string', 'locationcategory': 'string', 'storetime': 'datetime', 'cgid': 'int', 'orderid': 'int', 'linkorderid': 'int', 'ordercategoryname': 'string', 'secondaryordercategoryname': None, 'ordercategorydescription': 'string', 'isopenbag': 'int', 'continueinnextdept': 'int', 'cancelreason': 'int', 'statusdescription': 'string', 'comments_editedby': 'string', 'comments_canceledby': 'string', 'comments_date': 'datetime', 'filepath': '../basic_filtered_data/mimic-iii-demo/PROCEDUREEVENTS_MV.csv'}, 'CALLOUT': {'Unnamed: 0': 'int', 'row_id': 'int', 'subject_id': 'int', 'hadm_id': 'int', 'submit_wardid': 'int', 'submit_careunit': 'string', 'curr_wardid': 'int', 'curr_careunit': 'string', 'callout_wardid': 'int', 'callout_service': 'string', 'request_tele': 'int', 'request_resp': 'int', 'request_cdiff': 'int', 'request_mrsa': 'int', 'request_vre': 'int', 'callout_status': 'string', 'callout_outcome': 'string', 'discharge_wardid': 'int', 'acknowledge_status': 'string', 'createtime': 'datetime', 'updatetime': 'datetime', 'acknowledgetime': 'datetime', 'outcometime': 'datetime', 'firstreservationtime': 'datetime', 'currentreservationtime': 'datetime', 'filepath': '../basic_filtered_data/mimic-iii-demo/CALLOUT.csv'}, 'D_CPT': {'Unnamed: 0': 'int', 'row_id': 'int', 'category': 'int', 'sectionrange': 'string', 'sectionheader': 'string', 'subsectionrange': 'string', 'subsectionheader': 'string', 'codesuffix': 'string', 'mincodeinsubsection': 'int', 'maxcodeinsubsection': 'int', 'filepath': '../basic_filtered_data/mimic-iii-demo/D_CPT.csv'}, 'D_ITEMS': {'Unnamed: 0': 'int', 'row_id': 'int', 'itemid': 'int', 'label': 'string', 'abbreviation': 'string', 'dbsource': 'string', 'linksto': 'string', 'category': 'string', 'unitname': 'string', 'param_type': 'string', 'conceptid': None, 'filepath': '../basic_filtered_data/mimic-iii-demo/D_ITEMS.csv'}, 'CAREGIVERS': {'Unnamed: 0': 'int', 'row_id': 'int', 'cgid': 'int', 'label': 'string', 'description': 'string', 'filepath': '../basic_filtered_data/mimic-iii-demo/CAREGIVERS.csv'}, 'MICROBIOLOGYEVENTS': {'Unnamed: 0': 'int', 'row_id': 'datetime', 'subject_id': 'int', 'hadm_id': 'int', 'chartdate': 'datetime', 'charttime': 'datetime', 'spec_itemid': 'int', 'spec_type_desc': 'string', 'org_itemid': 'int', 'org_name': 'string', 'isolate_num': 'int', 'ab_itemid': 'int', 'ab_name': 'string', 'dilution_text': 'string', 'dilution_comparison': 'string', 'dilution_value': 'int', 'interpretation': 'string', 'filepath': '../basic_filtered_data/mimic-iii-demo/MICROBIOLOGYEVENTS.csv'}, 'LABEVENTS': {'Unnamed: 0': 'int', 'row_id': 'int', 'subject_id': 'int', 'hadm_id': 'int', 'itemid': 'int', 'charttime': 'datetime', 'value': 'string', 'valuenum': 'float', 'valueuom': 'string', 'flag': 'string', 'filepath': '../basic_filtered_data/mimic-iii-demo/LABEVENTS.csv'}, 'INPUTEVENTS_CV': {'Unnamed: 0': 'int', 'row_id': 'int', 'subject_id': 'int', 'hadm_id': 'int', 'icustay_id': 'int', 'charttime': 'datetime', 'itemid': 'int', 'amount': 'float', 'amountuom': 'string', 'rate': 'float', 'rateuom': 'string', 'storetime': 'datetime', 'cgid': 'int', 'orderid': 'int', 'linkorderid': 'int', 'stopped': 'string', 'newbottle': 'int', 'originalamount': 'float', 'originalamountuom': 'string', 'originalroute': 'string', 'originalrate': 'float', 'originalrateuom': 'string', 'originalsite': 'string', 'filepath': '../basic_filtered_data/mimic-iii-demo/INPUTEVENTS_CV.csv'}, 'ADMISSIONS': {'Unnamed: 0': 'int', 'row_id': 'int', 'subject_id': 'int', 'hadm_id': 'int', 'admittime': 'datetime', 'dischtime': 'datetime', 'deathtime': 'datetime', 'admission_type': 'string', 'admission_location': 'string', 'discharge_location': 'string', 'insurance': 'string', 'language': 'string', 'religion': 'string', 'marital_status': 'string', 'ethnicity': 'string', 'edregtime': 'datetime', 'edouttime': 'datetime', 'diagnosis': 'string', 'hospital_expire_flag': 'int', 'has_chartevents_data': 'int', 'filepath': '../basic_filtered_data/mimic-iii-demo/ADMISSIONS.csv'}, 'D_LABITEMS': {'Unnamed: 0': 'int', 'row_id': 'int', 'itemid': 'int', 'label': 'string', 'fluid': 'string', 'category': 'string', 'loinc_code': 'string', 'filepath': '../basic_filtered_data/mimic-iii-demo/D_LABITEMS.csv'}, 'DATETIMEEVENTS': {'Unnamed: 0': 'int', 'row_id': 'int', 'subject_id': 'int', 'hadm_id': 'int', 'icustay_id': 'int', 'itemid': 'int', 'charttime': 'datetime', 'storetime': 'datetime', 'cgid': 'int', 'value': 'datetime', 'valueuom': 'string', 'warning': 'int', 'error': 'int', 'resultstatus': None, 'stopped': 'string', 'filepath': '../basic_filtered_data/mimic-iii-demo/DATETIMEEVENTS.csv'}, 'PRESCRIPTIONS': {'Unnamed: 0': 'int', 'row_id': 'int', 'subject_id': 'int', 'hadm_id': 'int', 'icustay_id': 'int', 'startdate': 'datetime', 'enddate': 'datetime', 'drug_type': 'string', 'drug': 'string', 'drug_name_poe': 'string', 'drug_name_generic': 'string', 'formulary_drug_cd': 'string', 'gsn': 'int', 'ndc': 'int', 'prod_strength': 'string', 'dose_val_rx': 'string', 'dose_unit_rx': 'string', 'form_val_disp': 'string', 'form_unit_disp': 'string', 'route': 'string', 'filepath': '../basic_filtered_data/mimic-iii-demo/PRESCRIPTIONS.csv'}, 'PROCEDURES_ICD': {'Unnamed: 0': 'int', 'row_id': 'int', 'subject_id': 'int', 'hadm_id': 'int', 'seq_num': 'int', 'icd9_code': 'int', 'filepath': '../basic_filtered_data/mimic-iii-demo/PROCEDURES_ICD.csv'}, 'CHARTEVENTS': {'Unnamed: 0': 'int', 'row_id': 'int', 'subject_id': 'int', 'hadm_id': 'int', 'icustay_id': 'int', 'itemid': 'int', 'charttime': 'datetime', 'storetime': 'datetime', 'cgid': 'int', 'value': 'string', 'valuenum': 'float', 'valueuom': 'string', 'warning': 'int', 'error': 'int', 'resultstatus': 'string', 'stopped': 'string', 'filepath': '../basic_filtered_data/mimic-iii-demo/CHARTEVENTS.csv'}, 'TRANSFERS': {'Unnamed: 0': 'int', 'row_id': 'int', 'subject_id': 'int', 'hadm_id': 'int', 'icustay_id': 'int', 'dbsource': 'string', 'eventtype': 'string', 'prev_careunit': 'string', 'curr_careunit': 'string', 'prev_wardid': 'int', 'curr_wardid': 'int', 'intime': 'datetime', 'outtime': 'datetime', 'los': 'float', 'filepath': '../basic_filtered_data/mimic-iii-demo/TRANSFERS.csv'}, 'DIAGNOSES_ICD': {'Unnamed: 0': 'int', 'row_id': 'int', 'subject_id': 'int', 'hadm_id': 'int', 'seq_num': 'int', 'icd9_code': 'string', 'filepath': '../basic_filtered_data/mimic-iii-demo/DIAGNOSES_ICD.csv'}, 'SERVICES': {'Unnamed: 0': 'int', 'row_id': 'int', 'subject_id': 'int', 'hadm_id': 'int', 'transfertime': 'datetime', 'prev_service': 'string', 'curr_service': 'string', 'filepath': '../basic_filtered_data/mimic-iii-demo/SERVICES.csv'}, 'DRGCODES': {'Unnamed: 0': 'int', 'row_id': 'int', 'subject_id': 'int', 'hadm_id': 'int', 'drg_type': 'string', 'drg_code': 'int', 'description': 'string', 'drg_severity': 'int', 'drg_mortality': 'int', 'filepath': '../basic_filtered_data/mimic-iii-demo/DRGCODES.csv'}, 'OUTPUTEVENTS': {'Unnamed: 0': 'int', 'row_id': 'int', 'subject_id': 'int', 'hadm_id': 'int', 'icustay_id': 'int', 'charttime': 'datetime', 'itemid': 'int', 'value': 'int', 'valueuom': 'string', 'storetime': 'datetime', 'cgid': 'int', 'stopped': None, 'newbottle': None, 'iserror': None, 'filepath': '../basic_filtered_data/mimic-iii-demo/OUTPUTEVENTS.csv'}, 'PATIENTS': {'Unnamed: 0': 'int', 'row_id': 'int', 'subject_id': 'int', 'gender': 'string', 'dob': 'datetime', 'dod': 'datetime', 'dod_hosp': 'datetime', 'dod_ssn': 'datetime', 'expire_flag': 'int', 'filepath': '../basic_filtered_data/mimic-iii-demo/PATIENTS.csv'}, 'D_ICD_DIAGNOSES': {'Unnamed: 0': 'int', 'row_id': 'int', 'icd9_code': 'string', 'short_title': 'string', 'long_title': 'string', 'filepath': '../basic_filtered_data/mimic-iii-demo/D_ICD_DIAGNOSES.csv'}, 'ICUSTAYS': {'Unnamed: 0': 'int', 'row_id': 'int', 'subject_id': 'int', 'hadm_id': 'int', 'icustay_id': 'int', 'dbsource': 'string', 'first_careunit': 'string', 'last_careunit': 'string', 'first_wardid': 'int', 'last_wardid': 'int', 'intime': 'datetime', 'outtime': 'datetime', 'los': 'float', 'filepath': '../basic_filtered_data/mimic-iii-demo/ICUSTAYS.csv'}, 'INPUTEVENTS_MV': {'Unnamed: 0': 'int', 'row_id': 'int', 'subject_id': 'int', 'hadm_id': 'int', 'icustay_id': 'int', 'starttime': 'datetime', 'endtime': 'datetime', 'itemid': 'datetime', 'amount': 'float', 'amountuom': 'string', 'rate': 'float', 'rateuom': 'string', 'storetime': 'datetime', 'cgid': 'int', 'orderid': 'int', 'linkorderid': 'int', 'ordercategoryname': 'string', 'secondaryordercategoryname': 'string', 'ordercomponenttypedescription': 'string', 'ordercategorydescription': 'string', 'patientweight': 'float', 'totalamount': 'float', 'totalamountuom': 'string', 'isopenbag': 'int', 'continueinnextdept': 'int', 'cancelreason': 'int', 'statusdescription': 'string', 'comments_editedby': 'string', 'comments_canceledby': 'string', 'comments_date': 'datetime', 'originalamount': 'float', 'originalrate': 'float', 'filepath': '../basic_filtered_data/mimic-iii-demo/INPUTEVENTS_MV.csv'}, 'D_ICD_PROCEDURES': {'Unnamed: 0': 'int', 'row_id': 'int', 'icd9_code': 'int', 'short_title': 'string', 'long_title': 'string', 'filepath': '../basic_filtered_data/mimic-iii-demo/D_ICD_PROCEDURES.csv'}, 'CPTEVENTS': {'Unnamed: 0': 'int', 'row_id': 'int', 'subject_id': 'int', 'hadm_id': 'int', 'costcenter': 'string', 'chartdate': 'datetime', 'cpt_cd': 'int', 'cpt_number': 'int', 'cpt_suffix': None, 'ticket_id_seq': 'int', 'sectionheader': 'string', 'subsectionheader': 'string', 'description': 'string', 'filepath': '../basic_filtered_data/mimic-iii-demo/CPTEVENTS.csv'}}\n"
     ]
    }
   ],
   "source": [
    "with open(\"mimic_3.json\", \"r\") as f:\n",
    "    mimic_3 = json.load(f)\n",
    "\n",
    "print(mimic_3)"
   ]
  },
  {
   "cell_type": "code",
   "execution_count": 36,
   "metadata": {},
   "outputs": [],
   "source": [
    "with open(\"mimic_4_ed.json\", \"r\") as f:\n",
    "    mimic_4_ed = json.load(f)\n",
    "\n",
    "with open(\"mimic_4_hosp.json\", \"r\") as f:\n",
    "    mimic_4_hosp = json.load(f)\n",
    "\n",
    "with open(\"mimic_4_icu.json\", \"r\") as f:\n",
    "    mimic_4_icu = json.load(f)\n",
    "\n",
    "\n",
    "mimic_4 = dict()\n",
    "mimic_4.update(mimic_4_ed)\n",
    "mimic_4.update(mimic_4_icu)\n",
    "mimic_4.update(mimic_4_hosp)\n"
   ]
  },
  {
   "cell_type": "code",
   "execution_count": 37,
   "metadata": {},
   "outputs": [
    {
     "name": "stdout",
     "output_type": "stream",
     "text": [
      "35\n"
     ]
    }
   ],
   "source": [
    "print(len(mimic_4.keys()))"
   ]
  },
  {
   "cell_type": "code",
   "execution_count": 38,
   "metadata": {},
   "outputs": [
    {
     "name": "stdout",
     "output_type": "stream",
     "text": [
      "25\n"
     ]
    }
   ],
   "source": [
    "print(len(mimic_3.keys()))"
   ]
  },
  {
   "cell_type": "code",
   "execution_count": 39,
   "metadata": {},
   "outputs": [
    {
     "data": {
      "text/plain": [
       "85"
      ]
     },
     "execution_count": 39,
     "metadata": {},
     "output_type": "execute_result"
    }
   ],
   "source": [
    "fuzz.ratio(\"this is a bif\",\"this is a pig\")"
   ]
  },
  {
   "cell_type": "code",
   "execution_count": 40,
   "metadata": {},
   "outputs": [
    {
     "data": {
      "text/plain": [
       "92"
      ]
     },
     "execution_count": 40,
     "metadata": {},
     "output_type": "execute_result"
    }
   ],
   "source": [
    "fuzz.ratio(\"this is a bif\",\"this is a big\")"
   ]
  },
  {
   "cell_type": "code",
   "execution_count": 41,
   "metadata": {},
   "outputs": [
    {
     "data": {
      "text/plain": [
       "['diagnosis.csv',\n",
       " 'medrecon.csv',\n",
       " 'vitalsign.csv',\n",
       " 'triage.csv',\n",
       " 'edstays.csv',\n",
       " 'pyxis.csv',\n",
       " 'datetimeevents.csv',\n",
       " 'ingredientevents.csv',\n",
       " 'inputevents.csv',\n",
       " 'procedureevents.csv',\n",
       " 'd_items.csv',\n",
       " 'chartevents.csv',\n",
       " 'icustays.csv',\n",
       " 'outputevents.csv',\n",
       " 'poe.csv',\n",
       " 'd_hcpcs.csv',\n",
       " 'poe_detail.csv',\n",
       " 'patients.csv',\n",
       " 'diagnoses_icd.csv',\n",
       " 'emar_detail.csv',\n",
       " 'prescriptions.csv',\n",
       " 'drgcodes.csv',\n",
       " 'd_icd_diagnoses.csv',\n",
       " 'd_labitems.csv',\n",
       " 'transfers.csv',\n",
       " 'admissions.csv',\n",
       " 'labevents.csv',\n",
       " 'pharmacy.csv',\n",
       " 'procedures_icd.csv',\n",
       " 'hcpcsevents.csv',\n",
       " 'services.csv',\n",
       " 'd_icd_procedures.csv',\n",
       " 'omr.csv',\n",
       " 'emar.csv',\n",
       " 'microbiologyevents.csv']"
      ]
     },
     "execution_count": 41,
     "metadata": {},
     "output_type": "execute_result"
    }
   ],
   "source": [
    "list(mimic_4.keys())"
   ]
  },
  {
   "cell_type": "code",
   "execution_count": 42,
   "metadata": {},
   "outputs": [
    {
     "data": {
      "text/plain": [
       "['PROCEDUREEVENTS_MV',\n",
       " 'CALLOUT',\n",
       " 'D_CPT',\n",
       " 'D_ITEMS',\n",
       " 'CAREGIVERS',\n",
       " 'MICROBIOLOGYEVENTS',\n",
       " 'LABEVENTS',\n",
       " 'INPUTEVENTS_CV',\n",
       " 'ADMISSIONS',\n",
       " 'D_LABITEMS',\n",
       " 'DATETIMEEVENTS',\n",
       " 'PRESCRIPTIONS',\n",
       " 'PROCEDURES_ICD',\n",
       " 'CHARTEVENTS',\n",
       " 'TRANSFERS',\n",
       " 'DIAGNOSES_ICD',\n",
       " 'SERVICES',\n",
       " 'DRGCODES',\n",
       " 'OUTPUTEVENTS',\n",
       " 'PATIENTS',\n",
       " 'D_ICD_DIAGNOSES',\n",
       " 'ICUSTAYS',\n",
       " 'INPUTEVENTS_MV',\n",
       " 'D_ICD_PROCEDURES',\n",
       " 'CPTEVENTS']"
      ]
     },
     "execution_count": 42,
     "metadata": {},
     "output_type": "execute_result"
    }
   ],
   "source": [
    "list(mimic_3.keys())"
   ]
  },
  {
   "cell_type": "code",
   "execution_count": 43,
   "metadata": {},
   "outputs": [
    {
     "name": "stdout",
     "output_type": "stream",
     "text": [
      "mimic 3 -> mimic 4 (confidence ratio)\n",
      "--------------------------------------\n",
      "PROCEDUREEVENTS_MV -> procedureevents.csv (86%)\n",
      "CALLOUT -> microbiologyevents.csv (28%)\n",
      "D_CPT -> d_hcpcs.csv (50%)\n",
      "D_ITEMS -> d_items.csv (78%)\n",
      "CAREGIVERS -> chartevents.csv (56%)\n",
      "MICROBIOLOGYEVENTS -> microbiologyevents.csv (90%)\n",
      "LABEVENTS -> labevents.csv (82%)\n",
      "INPUTEVENTS_CV -> inputevents.csv (90%)\n",
      "ADMISSIONS -> admissions.csv (83%)\n",
      "D_LABITEMS -> d_labitems.csv (83%)\n",
      "DATETIMEEVENTS -> datetimeevents.csv (88%)\n",
      "PRESCRIPTIONS -> prescriptions.csv (87%)\n",
      "PROCEDURES_ICD -> procedures_icd.csv (88%)\n",
      "CHARTEVENTS -> chartevents.csv (85%)\n",
      "TRANSFERS -> transfers.csv (82%)\n",
      "DIAGNOSES_ICD -> diagnoses_icd.csv (87%)\n",
      "SERVICES -> services.csv (80%)\n",
      "DRGCODES -> drgcodes.csv (80%)\n",
      "OUTPUTEVENTS -> outputevents.csv (86%)\n",
      "PATIENTS -> patients.csv (80%)\n",
      "D_ICD_DIAGNOSES -> d_icd_diagnoses.csv (88%)\n",
      "ICUSTAYS -> icustays.csv (80%)\n",
      "INPUTEVENTS_MV -> inputevents.csv (83%)\n",
      "D_ICD_PROCEDURES -> d_icd_procedures.csv (89%)\n",
      "CPTEVENTS -> inputevents.csv (67%)\n"
     ]
    }
   ],
   "source": [
    "list1 = list(mimic_3.keys())\n",
    "list2 = list(mimic_4.keys())\n",
    "\n",
    "# O(n2) fuzzy compare \n",
    "print(\"mimic 3 -> mimic 4 (confidence ratio)\")\n",
    "print(\"--------------------------------------\")\n",
    "for item1 in list1:\n",
    "    best_match = None\n",
    "    best_ratio = 0\n",
    "    for item2 in list2:\n",
    "        ratio = fuzz.ratio(item1.lower(), item2.lower())\n",
    "        if ratio > best_ratio:\n",
    "            best_ratio = ratio\n",
    "            best_match = item2\n",
    "    print(f\"{item1} -> {best_match} ({best_ratio}%)\")"
   ]
  },
  {
   "cell_type": "code",
   "execution_count": 46,
   "metadata": {},
   "outputs": [],
   "source": [
    "list1 = pd.read_csv(mimic_3[\"PROCEDUREEVENTS_MV\"][\"filepath\"]).columns.to_list()\n",
    "list2 = pd.read_csv(mimic_4[\"procedureevents.csv\"][\"filepath\"]).columns.to_list()"
   ]
  },
  {
   "cell_type": "code",
   "execution_count": 47,
   "metadata": {},
   "outputs": [
    {
     "name": "stdout",
     "output_type": "stream",
     "text": [
      "mimic 3 PROCEDUREEVENTS_MV -> mimic 4 procedureevents.csv (confidence ratio)\n",
      "--------------------------------------\n",
      "Unnamed: 0 -> Unnamed: 0 (100%)\n",
      "row_id -> hadm_id (46%)\n",
      "subject_id -> subject_id (100%)\n",
      "hadm_id -> hadm_id (100%)\n",
      "icustay_id -> stay_id (82%)\n",
      "starttime -> starttime (100%)\n",
      "endtime -> endtime (100%)\n",
      "itemid -> itemid (100%)\n",
      "value -> value (100%)\n",
      "valueuom -> valueuom (100%)\n",
      "location -> location (100%)\n",
      "locationcategory -> locationcategory (100%)\n",
      "storetime -> storetime (100%)\n",
      "cgid -> caregiver_id (50%)\n",
      "orderid -> orderid (100%)\n",
      "linkorderid -> linkorderid (100%)\n",
      "ordercategoryname -> ordercategoryname (100%)\n",
      "secondaryordercategoryname -> ordercategoryname (79%)\n",
      "ordercategorydescription -> ordercategorydescription (100%)\n",
      "isopenbag -> isopenbag (100%)\n",
      "continueinnextdept -> continueinnextdept (100%)\n",
      "cancelreason -> locationcategory (43%)\n",
      "statusdescription -> statusdescription (100%)\n",
      "comments_editedby -> patientweight (40%)\n",
      "comments_canceledby -> continueinnextdept (43%)\n",
      "comments_date -> locationcategory (41%)\n"
     ]
    }
   ],
   "source": [
    "# O(n2) fuzzy compare \n",
    "print(\"mimic 3 PROCEDUREEVENTS_MV -> mimic 4 procedureevents.csv (confidence ratio)\")\n",
    "print(\"--------------------------------------\")\n",
    "for item1 in list1:\n",
    "    best_match = None\n",
    "    best_ratio = 0\n",
    "    for item2 in list2:\n",
    "        ratio = fuzz.ratio(item1.lower(), item2.lower())\n",
    "        if ratio > best_ratio:\n",
    "            best_ratio = ratio\n",
    "            best_match = item2\n",
    "    print(f\"{item1} -> {best_match} ({best_ratio}%)\")"
   ]
  },
  {
   "cell_type": "code",
   "execution_count": null,
   "metadata": {},
   "outputs": [],
   "source": []
  }
 ],
 "metadata": {
  "kernelspec": {
   "display_name": ".venv",
   "language": "python",
   "name": "python3"
  },
  "language_info": {
   "codemirror_mode": {
    "name": "ipython",
    "version": 3
   },
   "file_extension": ".py",
   "mimetype": "text/x-python",
   "name": "python",
   "nbconvert_exporter": "python",
   "pygments_lexer": "ipython3",
   "version": "3.11.3"
  },
  "orig_nbformat": 4
 },
 "nbformat": 4,
 "nbformat_minor": 2
}
