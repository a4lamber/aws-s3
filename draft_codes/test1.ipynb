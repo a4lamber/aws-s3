{
 "cells": [
  {
   "attachments": {},
   "cell_type": "markdown",
   "metadata": {},
   "source": [
    "# Testing\n",
    "- null rate per row (80%) is the limit"
   ]
  },
  {
   "attachments": {},
   "cell_type": "markdown",
   "metadata": {},
   "source": [
    "# "
   ]
  },
  {
   "cell_type": "code",
   "execution_count": 24,
   "metadata": {},
   "outputs": [],
   "source": [
    "import pathlib\n",
    "import pandas as pd\n",
    "import matplotlib.pyplot as plt\n",
    "import numpy as np\n",
    "import seaborn as sns"
   ]
  },
  {
   "cell_type": "code",
   "execution_count": 13,
   "metadata": {},
   "outputs": [],
   "source": [
    "def find_csvs(data_direcotry):\n",
    "    \"\"\"\n",
    "    find every .csv and .csv.gz file in the directory and return it\n",
    "    as a list\n",
    "    Args:\n",
    "        data_direcotry (_type_): _description_\n",
    "\n",
    "    Returns:\n",
    "        _type_: _description_\n",
    "    \"\"\"\n",
    "    # Define the directory to search in\n",
    "    path = pathlib.Path(data_direcotry)\n",
    "\n",
    "    # Find all .csv and .csv.gz files in the directory\n",
    "    gz_files = list(path.rglob('*.csv.gz'))\n",
    "\n",
    "    csv_files = list(path.rglob('*.csv'))\n",
    "    \n",
    "    # # merge two list\n",
    "    files = csv_files + gz_files\n",
    "\n",
    "    # # convert from POSIX to str\n",
    "    files = [str(file) for file in files]\n",
    "    return files"
   ]
  },
  {
   "cell_type": "code",
   "execution_count": 14,
   "metadata": {},
   "outputs": [
    {
     "data": {
      "text/plain": [
       "['../rawdata/mimic2-iaccd/1.0/full_cohort_data.csv',\n",
       " '../rawdata/mimic2-iaccd/1.0/aline-mimic-ii-master/Data_Analysis/R/hufeng/rnd12.csv',\n",
       " '../rawdata/mimic2-iaccd/1.0/aline-mimic-ii-master/Data_Analysis/R/hufeng/rnd5.csv',\n",
       " '../rawdata/mimic2-iaccd/1.0/aline-mimic-ii-master/Data_Analysis/R/hufeng/rnd4.csv',\n",
       " '../rawdata/mimic2-iaccd/1.0/aline-mimic-ii-master/Data_Analysis/R/hufeng/rnd13.csv',\n",
       " '../rawdata/mimic2-iaccd/1.0/aline-mimic-ii-master/Data_Analysis/R/hufeng/rnd11.csv',\n",
       " '../rawdata/mimic2-iaccd/1.0/aline-mimic-ii-master/Data_Analysis/R/hufeng/rnd6.csv',\n",
       " '../rawdata/mimic2-iaccd/1.0/aline-mimic-ii-master/Data_Analysis/R/hufeng/rnd7.csv',\n",
       " '../rawdata/mimic2-iaccd/1.0/aline-mimic-ii-master/Data_Analysis/R/hufeng/rnd10.csv',\n",
       " '../rawdata/mimic2-iaccd/1.0/aline-mimic-ii-master/Data_Analysis/R/hufeng/rnd14.csv',\n",
       " '../rawdata/mimic2-iaccd/1.0/aline-mimic-ii-master/Data_Analysis/R/hufeng/rnd3.csv',\n",
       " '../rawdata/mimic2-iaccd/1.0/aline-mimic-ii-master/Data_Analysis/R/hufeng/rnd2.csv',\n",
       " '../rawdata/mimic2-iaccd/1.0/aline-mimic-ii-master/Data_Analysis/R/hufeng/rnd15.csv',\n",
       " '../rawdata/mimic2-iaccd/1.0/aline-mimic-ii-master/Data_Analysis/R/hufeng/auroc.csv',\n",
       " '../rawdata/mimic2-iaccd/1.0/aline-mimic-ii-master/Data_Analysis/R/hufeng/rnd17.csv',\n",
       " '../rawdata/mimic2-iaccd/1.0/aline-mimic-ii-master/Data_Analysis/R/hufeng/rnd1.csv',\n",
       " '../rawdata/mimic2-iaccd/1.0/aline-mimic-ii-master/Data_Analysis/R/hufeng/rnd16.csv',\n",
       " '../rawdata/mimic2-iaccd/1.0/aline-mimic-ii-master/Data_Analysis/R/hufeng/rnd18.csv',\n",
       " '../rawdata/mimic2-iaccd/1.0/aline-mimic-ii-master/Data_Analysis/R/hufeng/rnd19.csv',\n",
       " '../rawdata/mimic2-iaccd/1.0/aline-mimic-ii-master/Data_Analysis/R/hufeng/rnd20.csv',\n",
       " '../rawdata/mimic2-iaccd/1.0/aline-mimic-ii-master/Data_Analysis/R/hufeng/rnd9.csv',\n",
       " '../rawdata/mimic2-iaccd/1.0/aline-mimic-ii-master/Data_Analysis/R/hufeng/rnd8.csv',\n",
       " '../rawdata/mimic2-iaccd/1.0/aline-mimic-ii-master/Data_Extraction/plotdata.csv',\n",
       " '../rawdata/mimic2-iaccd/1.0/aline-mimic-ii-master/Data_Extraction/or.csv',\n",
       " '../rawdata/mimic2-iaccd/1.0/aline-mimic-ii-master/Data_Extraction/temp.csv',\n",
       " '../rawdata/mimic2-iaccd/1.0/aline-mimic-ii-master/Data_Extraction/pvalue.csv',\n",
       " '../rawdata/mimic-iii-demo/PROCEDUREEVENTS_MV.csv',\n",
       " '../rawdata/mimic-iii-demo/CALLOUT.csv',\n",
       " '../rawdata/mimic-iii-demo/D_CPT.csv',\n",
       " '../rawdata/mimic-iii-demo/D_ITEMS.csv',\n",
       " '../rawdata/mimic-iii-demo/CAREGIVERS.csv',\n",
       " '../rawdata/mimic-iii-demo/MICROBIOLOGYEVENTS.csv',\n",
       " '../rawdata/mimic-iii-demo/LABEVENTS.csv',\n",
       " '../rawdata/mimic-iii-demo/INPUTEVENTS_CV.csv',\n",
       " '../rawdata/mimic-iii-demo/ADMISSIONS.csv',\n",
       " '../rawdata/mimic-iii-demo/D_LABITEMS.csv',\n",
       " '../rawdata/mimic-iii-demo/DATETIMEEVENTS.csv',\n",
       " '../rawdata/mimic-iii-demo/PRESCRIPTIONS.csv',\n",
       " '../rawdata/mimic-iii-demo/PROCEDURES_ICD.csv',\n",
       " '../rawdata/mimic-iii-demo/NOTEEVENTS.csv',\n",
       " '../rawdata/mimic-iii-demo/CHARTEVENTS.csv',\n",
       " '../rawdata/mimic-iii-demo/TRANSFERS.csv',\n",
       " '../rawdata/mimic-iii-demo/DIAGNOSES_ICD.csv',\n",
       " '../rawdata/mimic-iii-demo/SERVICES.csv',\n",
       " '../rawdata/mimic-iii-demo/DRGCODES.csv',\n",
       " '../rawdata/mimic-iii-demo/OUTPUTEVENTS.csv',\n",
       " '../rawdata/mimic-iii-demo/PATIENTS.csv',\n",
       " '../rawdata/mimic-iii-demo/D_ICD_DIAGNOSES.csv',\n",
       " '../rawdata/mimic-iii-demo/ICUSTAYS.csv',\n",
       " '../rawdata/mimic-iii-demo/INPUTEVENTS_MV.csv',\n",
       " '../rawdata/mimic-iii-demo/D_ICD_PROCEDURES.csv',\n",
       " '../rawdata/mimic-iii-demo/CPTEVENTS.csv',\n",
       " '../rawdata/mimic-iv-demo/2.2/demo_subject_id.csv',\n",
       " '../rawdata/eicu-crd-demo/2.0.1/diagnosis.csv.gz',\n",
       " '../rawdata/eicu-crd-demo/2.0.1/vitalAperiodic.csv.gz',\n",
       " '../rawdata/eicu-crd-demo/2.0.1/admissionDx.csv.gz',\n",
       " '../rawdata/eicu-crd-demo/2.0.1/respiratoryCare.csv.gz',\n",
       " '../rawdata/eicu-crd-demo/2.0.1/nurseAssessment.csv.gz',\n",
       " '../rawdata/eicu-crd-demo/2.0.1/hospital.csv.gz',\n",
       " '../rawdata/eicu-crd-demo/2.0.1/vitalPeriodic.csv.gz',\n",
       " '../rawdata/eicu-crd-demo/2.0.1/carePlanGeneral.csv.gz',\n",
       " '../rawdata/eicu-crd-demo/2.0.1/patient.csv.gz',\n",
       " '../rawdata/eicu-crd-demo/2.0.1/carePlanGoal.csv.gz',\n",
       " '../rawdata/eicu-crd-demo/2.0.1/treatment.csv.gz',\n",
       " '../rawdata/eicu-crd-demo/2.0.1/apacheApsVar.csv.gz',\n",
       " '../rawdata/eicu-crd-demo/2.0.1/carePlanEOL.csv.gz',\n",
       " '../rawdata/eicu-crd-demo/2.0.1/infusiondrug.csv.gz',\n",
       " '../rawdata/eicu-crd-demo/2.0.1/carePlanCareProvider.csv.gz',\n",
       " '../rawdata/eicu-crd-demo/2.0.1/microLab.csv.gz',\n",
       " '../rawdata/eicu-crd-demo/2.0.1/nurseCare.csv.gz',\n",
       " '../rawdata/eicu-crd-demo/2.0.1/physicalExam.csv.gz',\n",
       " '../rawdata/eicu-crd-demo/2.0.1/respiratoryCharting.csv.gz',\n",
       " '../rawdata/eicu-crd-demo/2.0.1/note.csv.gz',\n",
       " '../rawdata/eicu-crd-demo/2.0.1/admissiondrug.csv.gz',\n",
       " '../rawdata/eicu-crd-demo/2.0.1/lab.csv.gz',\n",
       " '../rawdata/eicu-crd-demo/2.0.1/apachePredVar.csv.gz',\n",
       " '../rawdata/eicu-crd-demo/2.0.1/customLab.csv.gz',\n",
       " '../rawdata/eicu-crd-demo/2.0.1/apachePatientResult.csv.gz',\n",
       " '../rawdata/eicu-crd-demo/2.0.1/carePlanInfectiousDisease.csv.gz',\n",
       " '../rawdata/eicu-crd-demo/2.0.1/allergy.csv.gz',\n",
       " '../rawdata/eicu-crd-demo/2.0.1/nurseCharting.csv.gz',\n",
       " '../rawdata/eicu-crd-demo/2.0.1/pastHistory.csv.gz',\n",
       " '../rawdata/eicu-crd-demo/2.0.1/medication.csv.gz',\n",
       " '../rawdata/eicu-crd-demo/2.0.1/intakeOutput.csv.gz',\n",
       " '../rawdata/mimic-iv-ed-demo/2.2/ed/diagnosis.csv.gz',\n",
       " '../rawdata/mimic-iv-ed-demo/2.2/ed/medrecon.csv.gz',\n",
       " '../rawdata/mimic-iv-ed-demo/2.2/ed/vitalsign.csv.gz',\n",
       " '../rawdata/mimic-iv-ed-demo/2.2/ed/triage.csv.gz',\n",
       " '../rawdata/mimic-iv-ed-demo/2.2/ed/edstays.csv.gz',\n",
       " '../rawdata/mimic-iv-ed-demo/2.2/ed/pyxis.csv.gz',\n",
       " '../rawdata/mimic-iv-demo/2.2/hosp/poe.csv.gz',\n",
       " '../rawdata/mimic-iv-demo/2.2/hosp/d_hcpcs.csv.gz',\n",
       " '../rawdata/mimic-iv-demo/2.2/hosp/poe_detail.csv.gz',\n",
       " '../rawdata/mimic-iv-demo/2.2/hosp/patients.csv.gz',\n",
       " '../rawdata/mimic-iv-demo/2.2/hosp/diagnoses_icd.csv.gz',\n",
       " '../rawdata/mimic-iv-demo/2.2/hosp/emar_detail.csv.gz',\n",
       " '../rawdata/mimic-iv-demo/2.2/hosp/provider.csv.gz',\n",
       " '../rawdata/mimic-iv-demo/2.2/hosp/prescriptions.csv.gz',\n",
       " '../rawdata/mimic-iv-demo/2.2/hosp/drgcodes.csv.gz',\n",
       " '../rawdata/mimic-iv-demo/2.2/hosp/d_icd_diagnoses.csv.gz',\n",
       " '../rawdata/mimic-iv-demo/2.2/hosp/d_labitems.csv.gz',\n",
       " '../rawdata/mimic-iv-demo/2.2/hosp/transfers.csv.gz',\n",
       " '../rawdata/mimic-iv-demo/2.2/hosp/admissions.csv.gz',\n",
       " '../rawdata/mimic-iv-demo/2.2/hosp/labevents.csv.gz',\n",
       " '../rawdata/mimic-iv-demo/2.2/hosp/pharmacy.csv.gz',\n",
       " '../rawdata/mimic-iv-demo/2.2/hosp/procedures_icd.csv.gz',\n",
       " '../rawdata/mimic-iv-demo/2.2/hosp/hcpcsevents.csv.gz',\n",
       " '../rawdata/mimic-iv-demo/2.2/hosp/services.csv.gz',\n",
       " '../rawdata/mimic-iv-demo/2.2/hosp/d_icd_procedures.csv.gz',\n",
       " '../rawdata/mimic-iv-demo/2.2/hosp/omr.csv.gz',\n",
       " '../rawdata/mimic-iv-demo/2.2/hosp/emar.csv.gz',\n",
       " '../rawdata/mimic-iv-demo/2.2/hosp/microbiologyevents.csv.gz',\n",
       " '../rawdata/mimic-iv-demo/2.2/icu/datetimeevents.csv.gz',\n",
       " '../rawdata/mimic-iv-demo/2.2/icu/caregiver.csv.gz',\n",
       " '../rawdata/mimic-iv-demo/2.2/icu/ingredientevents.csv.gz',\n",
       " '../rawdata/mimic-iv-demo/2.2/icu/inputevents.csv.gz',\n",
       " '../rawdata/mimic-iv-demo/2.2/icu/procedureevents.csv.gz',\n",
       " '../rawdata/mimic-iv-demo/2.2/icu/d_items.csv.gz',\n",
       " '../rawdata/mimic-iv-demo/2.2/icu/chartevents.csv.gz',\n",
       " '../rawdata/mimic-iv-demo/2.2/icu/icustays.csv.gz',\n",
       " '../rawdata/mimic-iv-demo/2.2/icu/outputevents.csv.gz']"
      ]
     },
     "execution_count": 14,
     "metadata": {},
     "output_type": "execute_result"
    }
   ],
   "source": [
    "csv_files = find_csvs(\"../rawdata/\")\n",
    "csv_files"
   ]
  },
  {
   "cell_type": "code",
   "execution_count": 15,
   "metadata": {},
   "outputs": [],
   "source": [
    "df = pd.read_csv(csv_files[0])"
   ]
  },
  {
   "cell_type": "code",
   "execution_count": 20,
   "metadata": {},
   "outputs": [
    {
     "data": {
      "text/plain": [
       "0       0.000000\n",
       "1       0.260870\n",
       "2       0.000000\n",
       "3       0.065217\n",
       "4       0.000000\n",
       "          ...   \n",
       "1771    0.021739\n",
       "1772    0.021739\n",
       "1773    0.065217\n",
       "1774    0.021739\n",
       "1775    0.021739\n",
       "Length: 1776, dtype: float64"
      ]
     },
     "execution_count": 20,
     "metadata": {},
     "output_type": "execute_result"
    }
   ],
   "source": [
    "dummy = df.isnull().sum(axis=1)/len(df.columns)\n",
    "dummy"
   ]
  },
  {
   "cell_type": "code",
   "execution_count": 31,
   "metadata": {},
   "outputs": [
    {
     "data": {
      "image/png": "[encoded data removed]",
      "text/plain": [
       "<Figure size 640x480 with 1 Axes>"
      ]
     },
     "metadata": {},
     "output_type": "display_data"
    }
   ],
   "source": [
    "# Create the array\n",
    "my_array = np.random.rand(1000)\n",
    "\n",
    "# Create the bins\n",
    "bins = np.arange(0, 1.1, 0.1)\n",
    "\n",
    "# Create a figure and axes\n",
    "fig, ax = plt.subplots()\n",
    "\n",
    "# Plot the histogram\n",
    "sns.histplot(dummy, bins=bins,kde=False,ax=ax)\n",
    "\n",
    "ax.axvline(x=0.8, color='r')\n",
    "\n",
    "# Add labels and title\n",
    "ax.set_xlabel('Row Null rate')\n",
    "ax.set_ylabel('Frequency')\n",
    "ax.set_title('Histogram of row null rate')\n",
    "\n",
    "# Show the plot\n",
    "plt.show()"
   ]
  },
  {
   "attachments": {},
   "cell_type": "markdown",
   "metadata": {},
   "source": [
    "Now i need to develop a function to calculate any rows greater than 80% null rates in each file"
   ]
  },
  {
   "cell_type": "code",
   "execution_count": 33,
   "metadata": {},
   "outputs": [
    {
     "data": {
      "text/plain": [
       "0       0.000000\n",
       "1       0.260870\n",
       "2       0.000000\n",
       "3       0.065217\n",
       "4       0.000000\n",
       "          ...   \n",
       "1771    0.021739\n",
       "1772    0.021739\n",
       "1773    0.065217\n",
       "1774    0.021739\n",
       "1775    0.021739\n",
       "Length: 1776, dtype: float64"
      ]
     },
     "execution_count": 33,
     "metadata": {},
     "output_type": "execute_result"
    }
   ],
   "source": [
    "df_1 = df.isnull().sum(axis=1)/len(df.columns)\n",
    "df_1"
   ]
  },
  {
   "cell_type": "code",
   "execution_count": 40,
   "metadata": {},
   "outputs": [
    {
     "name": "stdout",
     "output_type": "stream",
     "text": [
      "[]\n"
     ]
    }
   ],
   "source": [
    "def get_indexes(series):\n",
    "    mask = series > 0.8\n",
    "    return np.where(mask)[0].tolist()\n",
    "\n",
    "\n",
    "indexes = get_indexes(df_1)\n",
    "print(indexes)"
   ]
  },
  {
   "cell_type": "code",
   "execution_count": 50,
   "metadata": {},
   "outputs": [
    {
     "name": "stderr",
     "output_type": "stream",
     "text": [
      "/var/folders/g9/k6qb06vj6177d3v18ms7g0tw0000gn/T/ipykernel_39643/355319163.py:4: DtypeWarning: Columns (17,20,21) have mixed types. Specify dtype option on import or set low_memory=False.\n",
      "  df = pd.read_csv(file)\n",
      "/var/folders/g9/k6qb06vj6177d3v18ms7g0tw0000gn/T/ipykernel_39643/355319163.py:4: DtypeWarning: Columns (8,10,13,14) have mixed types. Specify dtype option on import or set low_memory=False.\n",
      "  df = pd.read_csv(file)\n",
      "/var/folders/g9/k6qb06vj6177d3v18ms7g0tw0000gn/T/ipykernel_39643/355319163.py:4: DtypeWarning: Columns (11) have mixed types. Specify dtype option on import or set low_memory=False.\n",
      "  df = pd.read_csv(file)\n",
      "/var/folders/g9/k6qb06vj6177d3v18ms7g0tw0000gn/T/ipykernel_39643/355319163.py:4: DtypeWarning: Columns (4,6,7,8,9,10,11,12,13,15,16,17,18,21,23,24,25,26,27,28,29,30,31,32) have mixed types. Specify dtype option on import or set low_memory=False.\n",
      "  df = pd.read_csv(file)\n"
     ]
    }
   ],
   "source": [
    "output = []\n",
    "for file in csv_files:\n",
    "    # read file as dataframe\n",
    "    df = pd.read_csv(file)\n",
    "    # get the row rate series\n",
    "    row_rate = df.isnull().sum(axis=1)/len(df.columns)\n",
    "    # \n",
    "    s = get_indexes(row_rate)\n",
    "\n",
    "    if len(s) != 0:\n",
    "        output.append(file)\n",
    "\n"
   ]
  },
  {
   "cell_type": "code",
   "execution_count": 51,
   "metadata": {},
   "outputs": [
    {
     "data": {
      "text/plain": [
       "['../rawdata/mimic2-iaccd/1.0/aline-mimic-ii-master/Data_Analysis/R/hufeng/rnd12.csv',\n",
       " '../rawdata/mimic2-iaccd/1.0/aline-mimic-ii-master/Data_Analysis/R/hufeng/rnd13.csv',\n",
       " '../rawdata/mimic2-iaccd/1.0/aline-mimic-ii-master/Data_Analysis/R/hufeng/rnd14.csv',\n",
       " '../rawdata/mimic2-iaccd/1.0/aline-mimic-ii-master/Data_Analysis/R/hufeng/rnd15.csv',\n",
       " '../rawdata/mimic2-iaccd/1.0/aline-mimic-ii-master/Data_Analysis/R/hufeng/rnd17.csv',\n",
       " '../rawdata/mimic2-iaccd/1.0/aline-mimic-ii-master/Data_Analysis/R/hufeng/rnd16.csv',\n",
       " '../rawdata/mimic2-iaccd/1.0/aline-mimic-ii-master/Data_Analysis/R/hufeng/rnd18.csv',\n",
       " '../rawdata/mimic2-iaccd/1.0/aline-mimic-ii-master/Data_Analysis/R/hufeng/rnd19.csv',\n",
       " '../rawdata/mimic2-iaccd/1.0/aline-mimic-ii-master/Data_Analysis/R/hufeng/rnd20.csv',\n",
       " '../rawdata/mimic-iv-demo/2.2/hosp/emar_detail.csv.gz']"
      ]
     },
     "execution_count": 51,
     "metadata": {},
     "output_type": "execute_result"
    }
   ],
   "source": [
    "output"
   ]
  },
  {
   "cell_type": "code",
   "execution_count": null,
   "metadata": {},
   "outputs": [],
   "source": []
  }
 ],
 "metadata": {
  "kernelspec": {
   "display_name": "aws",
   "language": "python",
   "name": "python3"
  },
  "language_info": {
   "codemirror_mode": {
    "name": "ipython",
    "version": 3
   },
   "file_extension": ".py",
   "mimetype": "text/x-python",
   "name": "python",
   "nbconvert_exporter": "python",
   "pygments_lexer": "ipython3",
   "version": "3.11.3"
  },
  "orig_nbformat": 4
 },
 "nbformat": 4,
 "nbformat_minor": 2
}
